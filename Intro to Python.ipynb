{
 "cells": [
  {
   "cell_type": "markdown",
   "id": "ed087937",
   "metadata": {},
   "source": [
    "# keywords\n"
   ]
  },
  {
   "cell_type": "code",
   "execution_count": 1,
   "id": "f401c69a",
   "metadata": {},
   "outputs": [],
   "source": [
    "import keyword"
   ]
  },
  {
   "cell_type": "code",
   "execution_count": 2,
   "id": "19c546d7",
   "metadata": {},
   "outputs": [
    {
     "data": {
      "text/plain": [
       "['False',\n",
       " 'None',\n",
       " 'True',\n",
       " '__peg_parser__',\n",
       " 'and',\n",
       " 'as',\n",
       " 'assert',\n",
       " 'async',\n",
       " 'await',\n",
       " 'break',\n",
       " 'class',\n",
       " 'continue',\n",
       " 'def',\n",
       " 'del',\n",
       " 'elif',\n",
       " 'else',\n",
       " 'except',\n",
       " 'finally',\n",
       " 'for',\n",
       " 'from',\n",
       " 'global',\n",
       " 'if',\n",
       " 'import',\n",
       " 'in',\n",
       " 'is',\n",
       " 'lambda',\n",
       " 'nonlocal',\n",
       " 'not',\n",
       " 'or',\n",
       " 'pass',\n",
       " 'raise',\n",
       " 'return',\n",
       " 'try',\n",
       " 'while',\n",
       " 'with',\n",
       " 'yield']"
      ]
     },
     "execution_count": 2,
     "metadata": {},
     "output_type": "execute_result"
    }
   ],
   "source": [
    "keyword.kwlist"
   ]
  },
  {
   "cell_type": "markdown",
   "id": "706284f6",
   "metadata": {},
   "source": [
    "# Identifiers"
   ]
  },
  {
   "cell_type": "raw",
   "id": "e51a07a5",
   "metadata": {},
   "source": [
    "Identifiers is a name given to entities like class,function,variable\n"
   ]
  },
  {
   "cell_type": "code",
   "execution_count": 4,
   "id": "568eb639",
   "metadata": {},
   "outputs": [
    {
     "name": "stdout",
     "output_type": "stream",
     "text": [
      "\n"
     ]
    }
   ],
   "source": [
    "print()"
   ]
  },
  {
   "cell_type": "markdown",
   "id": "5da5c8b5",
   "metadata": {},
   "source": [
    "# Comments"
   ]
  },
  {
   "cell_type": "raw",
   "id": "23e2af5c",
   "metadata": {},
   "source": [
    "Comments are lines that exists in a program that are ignored by compilers and interpreters"
   ]
  },
  {
   "cell_type": "raw",
   "id": "24eff1dd",
   "metadata": {},
   "source": [
    "Hash(#)\n",
    "Multiline comments(''' or \"\"\")"
   ]
  },
  {
   "cell_type": "markdown",
   "id": "707058ea",
   "metadata": {},
   "source": [
    "# Indentation"
   ]
  },
  {
   "cell_type": "raw",
   "id": "b9d3128c",
   "metadata": {},
   "source": [
    "Most of the programs uses { } braces to define 'Block of Code'\n",
    "Python uses Indentation"
   ]
  },
  {
   "cell_type": "code",
   "execution_count": 7,
   "id": "34257d31",
   "metadata": {},
   "outputs": [
    {
     "name": "stdout",
     "output_type": "stream",
     "text": [
      "0\n",
      "1\n",
      "2\n",
      "3\n",
      "4\n",
      "5\n",
      "6\n",
      "7\n",
      "8\n",
      "9\n"
     ]
    }
   ],
   "source": [
    "#Example\n",
    "#space before print()\n",
    "\n",
    "for i in range(10):\n",
    "    print(i)"
   ]
  },
  {
   "cell_type": "markdown",
   "id": "1c006050",
   "metadata": {},
   "source": [
    "# Statements"
   ]
  },
  {
   "cell_type": "raw",
   "id": "b6e22aff",
   "metadata": {},
   "source": [
    "Instructions that a python interpreter can execute are called Statements\n",
    "\n",
    "a=1  #single statement\n"
   ]
  },
  {
   "cell_type": "code",
   "execution_count": 9,
   "id": "a6c17f29",
   "metadata": {},
   "outputs": [
    {
     "data": {
      "text/plain": [
       "27"
      ]
     },
     "execution_count": 9,
     "metadata": {},
     "output_type": "execute_result"
    }
   ],
   "source": [
    "#MultiLine statement\n",
    "\n",
    "a=1+2+\\\n",
    "  4+5+\\\n",
    "  7+8\n",
    "a"
   ]
  },
  {
   "cell_type": "markdown",
   "id": "e15ecff9",
   "metadata": {},
   "source": [
    "#  Variables"
   ]
  },
  {
   "cell_type": "raw",
   "id": "ce3c5ebd",
   "metadata": {},
   "source": [
    "Variable is a location in memory to store the data"
   ]
  },
  {
   "cell_type": "code",
   "execution_count": null,
   "id": "988ec666",
   "metadata": {},
   "outputs": [],
   "source": [
    "#Variable assignments\n",
    "We use assignment operator(=) to assign values to variable\n",
    "a=10\n",
    "b=5.5\n",
    "c=\"ML\""
   ]
  },
  {
   "cell_type": "code",
   "execution_count": 10,
   "id": "5c8b3520",
   "metadata": {},
   "outputs": [],
   "source": [
    "#Multiple assignments\n",
    "a=b=c=\"AI\"\n",
    "a,b,c=5,5.5,\"ml\""
   ]
  },
  {
   "cell_type": "markdown",
   "id": "d36e5c30",
   "metadata": {},
   "source": [
    "# Storage Location"
   ]
  },
  {
   "cell_type": "code",
   "execution_count": 11,
   "id": "189b5aa5",
   "metadata": {},
   "outputs": [
    {
     "data": {
      "text/plain": [
       "2380011104624"
      ]
     },
     "execution_count": 11,
     "metadata": {},
     "output_type": "execute_result"
    }
   ],
   "source": [
    "a=3\n",
    "id(3)"
   ]
  },
  {
   "cell_type": "markdown",
   "id": "dcaecc3f",
   "metadata": {},
   "source": [
    "# DataTypes"
   ]
  },
  {
   "cell_type": "raw",
   "id": "1504017f",
   "metadata": {},
   "source": [
    "Every value in python has a datatype.\n",
    "Since everything is an object in Python\n",
    "DataTypes are classes and variables are instamce of these classes"
   ]
  },
  {
   "cell_type": "raw",
   "id": "23eb1d75",
   "metadata": {},
   "source": [
    "type(): To know which class a variable is:\n",
    "isinstance(): To check an object to particular class        "
   ]
  },
  {
   "cell_type": "code",
   "execution_count": 13,
   "id": "3fe3c855",
   "metadata": {},
   "outputs": [
    {
     "data": {
      "text/plain": [
       "bool"
      ]
     },
     "execution_count": 13,
     "metadata": {},
     "output_type": "execute_result"
    }
   ],
   "source": [
    "a=True\n",
    "type(a)"
   ]
  },
  {
   "cell_type": "markdown",
   "id": "d7045ca5",
   "metadata": {},
   "source": [
    " As we know that python is Dynamically typed programming language, than why do we need to learn about data type at all?\n",
    "\n",
    "Although python automatically understands the data type, but it is important to know about data types so that we can utilize the power of data structures in future.\n",
    "\n",
    "Basic Data Types available in python are:\n",
    "\n",
    "    Numeric - int, float, complex (Immutable)\n",
    "    Boolean - bool (True/False)\n",
    "    Strings (Immutable)\n",
    "    List (Mutable, mostly used to store homogeneous data types)\n",
    "    Tuple (Immutable, faster compared to List)\n",
    "    Set (Unordered collection of items, mutable, removes duplicates)\n",
    "    Dictionary (Unordered collection of Key-Value Pairs, Mutable, Keys are Unique - values may not be unique)"
   ]
  },
  {
   "cell_type": "markdown",
   "id": "edcaa4b4",
   "metadata": {},
   "source": [
    "# Input & Output"
   ]
  },
  {
   "cell_type": "code",
   "execution_count": null,
   "id": "d4ebb6ab",
   "metadata": {},
   "outputs": [],
   "source": [
    "# a = input()\n",
    "\n",
    "# print(type(a))"
   ]
  },
  {
   "cell_type": "markdown",
   "id": "f3047559",
   "metadata": {},
   "source": [
    "# Operators\n",
    "Operator is a symbol that perform certain operation.\n",
    "\n",
    "Operators available in python are:\n",
    "\n",
    "Arithmatic (+, -, , /, %, //, **)\n",
    "\n",
    "\n",
    "Relational (>, >=, <, <=)\n",
    "\n",
    "\n",
    "Equality (==, !=)\n",
    "\n",
    "\n",
    "Logical (and, or, not)\n",
    "\n",
    "\n",
    "Bitwise (&, |, ^, ~, <<, >>)\n",
    "\n",
    "\n",
    "Assignment (=, +=, -=, *=, /=, etc..)\n",
    "\n",
    "\n",
    "Ternary\n",
    "\n",
    "\n",
    "Identity --> is, is not (used for address comparision)\n",
    "\n",
    "\n",
    "Membership --> in, not in"
   ]
  },
  {
   "cell_type": "code",
   "execution_count": 14,
   "id": "29277c66",
   "metadata": {},
   "outputs": [
    {
     "name": "stdout",
     "output_type": "stream",
     "text": [
      "a+b =  14\n",
      "a-b =  6\n",
      "a*b =  40\n",
      "a/b =  2.5\n",
      "a%b =  2\n",
      "a//b =  2\n",
      "a**b =  10000\n"
     ]
    }
   ],
   "source": [
    "# Arithmatic Operators\n",
    "\n",
    "a = 10;\n",
    "b = 4;\n",
    "print('a+b = ', a+b);\n",
    "print('a-b = ', a-b);\n",
    "print('a*b = ', a*b);\n",
    "print('a/b = ', a/b);\n",
    "print('a%b = ', a%b);\n",
    "print('a//b = ', a//b);\n",
    "print('a**b = ', a**b);"
   ]
  },
  {
   "cell_type": "code",
   "execution_count": 15,
   "id": "f3ce8a02",
   "metadata": {},
   "outputs": [],
   "source": [
    "# # Relational Operators\n",
    "\n",
    "# a = 10;\n",
    "# b = 6;\n",
    "# print('a<b = ', a<b);\n",
    "# print('a<=b = ', a<=b);\n",
    "# print('a>b = ', a>b);\n",
    "# print('a>=b = ', a>=b);"
   ]
  },
  {
   "cell_type": "code",
   "execution_count": 16,
   "id": "922ae414",
   "metadata": {},
   "outputs": [],
   "source": [
    "# # Equality Operators\n",
    "\n",
    "# a = 10;\n",
    "# b = 6;\n",
    "# print('a==b ', a==b);\n",
    "# print('a!=b ', a!=b);"
   ]
  },
  {
   "cell_type": "code",
   "execution_count": 17,
   "id": "d01feac0",
   "metadata": {},
   "outputs": [],
   "source": [
    "# # Logical Operators\n",
    "\n",
    "# print(5 < 6 and 6 < 6)\n",
    "\n",
    "# print(5 < 6 or 6 < 6)\n",
    "\n",
    "# print(not(5 < 6 and 6 < 6))"
   ]
  },
  {
   "cell_type": "code",
   "execution_count": 18,
   "id": "db4dce6a",
   "metadata": {},
   "outputs": [],
   "source": [
    "# # Bitwise\n",
    "# # & -> if both bits are 1 then 1 otherwise 0\n",
    "# # | -> if both bits are 0 then 0 otherwise 1\n",
    "# # ^ -> if both bits are different then 1 otherwise 0\n",
    "# # ~ -> bitwise complement\n",
    "\n",
    "# print(5 & 10)\n",
    "\n",
    "# print(5 | 10)\n",
    "\n",
    "# print(5 ^ 10)\n",
    "\n",
    "# print(~10)"
   ]
  },
  {
   "cell_type": "code",
   "execution_count": 19,
   "id": "47ae7f92",
   "metadata": {},
   "outputs": [],
   "source": [
    "# # Shift Operators\n",
    "\n",
    "# print(10 << 1);\n",
    "\n",
    "# print(10 >> 1);"
   ]
  },
  {
   "cell_type": "code",
   "execution_count": 20,
   "id": "df218329",
   "metadata": {},
   "outputs": [],
   "source": [
    "# # Assignment Operators\n",
    "\n",
    "# x = 10;\n",
    "\n",
    "# x += 10;\n",
    "\n",
    "# print(x);\n"
   ]
  },
  {
   "cell_type": "code",
   "execution_count": 21,
   "id": "fa9276d1",
   "metadata": {},
   "outputs": [],
   "source": [
    "# # Ternary\n",
    "\n",
    "# x = 5 if (5 < 6) else 6\n",
    "\n",
    "# y = 5 if (5 > 6) else 6\n",
    "\n",
    "# print(x, y)"
   ]
  },
  {
   "cell_type": "markdown",
   "id": "41dceabf",
   "metadata": {},
   "source": [
    " # DataTypes\n",
    "    \n",
    "    \n",
    "    \n",
    "    #Mutable Datatype\n",
    "List\n",
    "Dictionary\n",
    "Set\n",
    "\n",
    "#Immutable DataType\n",
    "Number\n",
    "String\n",
    "Tuple\n",
    "    \n",
    "    \n",
    "    Numeric - int, float, complex (Immutable)\n",
    "    Strings (Immutable)\n",
    "    List (Mutable, mostly used to store homogeneous data types)\n",
    "    Tuple (Immutable, faster compared to List)\n",
    "    Set (Unordered collection of items, mutable, removes duplicates)\n",
    "    Dictionary (Unordered collection of Key-Value Pairs, Mutable, Keys are Unique - values may not be unique)"
   ]
  },
  {
   "cell_type": "code",
   "execution_count": null,
   "id": "1fef3215",
   "metadata": {},
   "outputs": [],
   "source": []
  }
 ],
 "metadata": {
  "kernelspec": {
   "display_name": "Python 3 (ipykernel)",
   "language": "python",
   "name": "python3"
  },
  "language_info": {
   "codemirror_mode": {
    "name": "ipython",
    "version": 3
   },
   "file_extension": ".py",
   "mimetype": "text/x-python",
   "name": "python",
   "nbconvert_exporter": "python",
   "pygments_lexer": "ipython3",
   "version": "3.9.13"
  },
  "nbTranslate": {
   "displayLangs": [
    "*"
   ],
   "hotkey": "alt-t",
   "langInMainMenu": true,
   "sourceLang": "en",
   "targetLang": "fr",
   "useGoogleTranslate": true
  }
 },
 "nbformat": 4,
 "nbformat_minor": 5
}
